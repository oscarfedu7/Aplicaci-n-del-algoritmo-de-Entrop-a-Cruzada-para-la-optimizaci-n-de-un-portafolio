{
  "nbformat": 4,
  "nbformat_minor": 0,
  "metadata": {
    "colab": {
      "provenance": [],
      "authorship_tag": "ABX9TyOsXnwQLnfyVbCtcdp2ihYR",
      "include_colab_link": true
    },
    "kernelspec": {
      "name": "python3",
      "display_name": "Python 3"
    },
    "language_info": {
      "name": "python"
    }
  },
  "cells": [
    {
      "cell_type": "markdown",
      "metadata": {
        "id": "view-in-github",
        "colab_type": "text"
      },
      "source": [
        "<a href=\"https://colab.research.google.com/github/oscarfedu7/Aplicaci-n-del-algoritmo-de-Entrop-a-Cruzada-para-la-optimizaci-n-de-un-portafolio/blob/Experimento-2-3-4/Experimento_completo_3_meses_y_3_meses.ipynb\" target=\"_parent\"><img src=\"https://colab.research.google.com/assets/colab-badge.svg\" alt=\"Open In Colab\"/></a>"
      ]
    },
    {
      "cell_type": "markdown",
      "source": [
        "## Obteniendo los datos"
      ],
      "metadata": {
        "id": "5vWDqUA3MIO1"
      }
    },
    {
      "cell_type": "code",
      "source": [
        "import numpy as np\n",
        "import pandas as pd \n",
        "!pip install yfinance\n",
        "!pip install yahoofinancials\n",
        "import matplotlib.pyplot as plt\n",
        "import yfinance as yf\n",
        "\n",
        "stocks=[\"GOOGL\",\"TSLA\",\"MSFT\",\"META\",\"CRM\",\"AMD\",\"NVDA\",\"INTC\",\"PYPL\",\"AMZN\",\"SAP\",\"DIS\",\"ORCL\",\"TSM\",\"SBUX\",\"FTNT\",\"GPRO\",\"ASML\",\"CSCO\",\"V\",\"MA\"]\n",
        "\n",
        "fecha_inicio = \"2017-01-01\"  #FECHA DE INICIO\n",
        "\n",
        "df=yf.download(\"AAPL\", start=fecha_inicio)\n",
        "df[\"Name\"]=\"AAPL\"\n",
        "\n",
        "for stock in stocks:\n",
        "  dfp=yf.download(stock, start=fecha_inicio)\n",
        "  dfp[\"Name\"]=stock\n",
        "  df=pd.concat([df, dfp], axis=0,)\n"
      ],
      "metadata": {
        "colab": {
          "base_uri": "https://localhost:8080/"
        },
        "id": "zJyXIb5MMJKO",
        "outputId": "88148db1-88b1-4f8e-9165-34e0b3d333ef"
      },
      "execution_count": null,
      "outputs": [
        {
          "output_type": "stream",
          "name": "stdout",
          "text": [
            "Looking in indexes: https://pypi.org/simple, https://us-python.pkg.dev/colab-wheels/public/simple/\n",
            "Collecting yfinance\n",
            "  Downloading yfinance-0.1.74-py2.py3-none-any.whl (27 kB)\n",
            "Requirement already satisfied: multitasking>=0.0.7 in /usr/local/lib/python3.7/dist-packages (from yfinance) (0.0.11)\n",
            "Collecting requests>=2.26\n",
            "  Downloading requests-2.28.1-py3-none-any.whl (62 kB)\n",
            "\u001b[K     |████████████████████████████████| 62 kB 1.4 MB/s \n",
            "\u001b[?25hRequirement already satisfied: pandas>=0.24.0 in /usr/local/lib/python3.7/dist-packages (from yfinance) (1.3.5)\n",
            "Requirement already satisfied: numpy>=1.15 in /usr/local/lib/python3.7/dist-packages (from yfinance) (1.21.6)\n",
            "Requirement already satisfied: lxml>=4.5.1 in /usr/local/lib/python3.7/dist-packages (from yfinance) (4.9.1)\n",
            "Requirement already satisfied: pytz>=2017.3 in /usr/local/lib/python3.7/dist-packages (from pandas>=0.24.0->yfinance) (2022.2.1)\n",
            "Requirement already satisfied: python-dateutil>=2.7.3 in /usr/local/lib/python3.7/dist-packages (from pandas>=0.24.0->yfinance) (2.8.2)\n",
            "Requirement already satisfied: six>=1.5 in /usr/local/lib/python3.7/dist-packages (from python-dateutil>=2.7.3->pandas>=0.24.0->yfinance) (1.15.0)\n",
            "Requirement already satisfied: certifi>=2017.4.17 in /usr/local/lib/python3.7/dist-packages (from requests>=2.26->yfinance) (2022.6.15)\n",
            "Requirement already satisfied: idna<4,>=2.5 in /usr/local/lib/python3.7/dist-packages (from requests>=2.26->yfinance) (2.10)\n",
            "Requirement already satisfied: charset-normalizer<3,>=2 in /usr/local/lib/python3.7/dist-packages (from requests>=2.26->yfinance) (2.1.1)\n",
            "Requirement already satisfied: urllib3<1.27,>=1.21.1 in /usr/local/lib/python3.7/dist-packages (from requests>=2.26->yfinance) (1.24.3)\n",
            "Installing collected packages: requests, yfinance\n",
            "  Attempting uninstall: requests\n",
            "    Found existing installation: requests 2.23.0\n",
            "    Uninstalling requests-2.23.0:\n",
            "      Successfully uninstalled requests-2.23.0\n",
            "Successfully installed requests-2.28.1 yfinance-0.1.74\n",
            "Looking in indexes: https://pypi.org/simple, https://us-python.pkg.dev/colab-wheels/public/simple/\n",
            "Collecting yahoofinancials\n",
            "  Downloading yahoofinancials-1.6.tar.gz (27 kB)\n",
            "Requirement already satisfied: beautifulsoup4 in /usr/local/lib/python3.7/dist-packages (from yahoofinancials) (4.6.3)\n",
            "Requirement already satisfied: pytz in /usr/local/lib/python3.7/dist-packages (from yahoofinancials) (2022.2.1)\n",
            "Building wheels for collected packages: yahoofinancials\n",
            "  Building wheel for yahoofinancials (setup.py) ... \u001b[?25l\u001b[?25hdone\n",
            "  Created wheel for yahoofinancials: filename=yahoofinancials-1.6-py3-none-any.whl size=15192 sha256=ea1b3e578438d43a58b02ac3cbd1ea8a63d5129889e75e4fce7783d14a501355\n",
            "  Stored in directory: /root/.cache/pip/wheels/4b/63/46/e7110bfee88685fe69e338d1b14d1748921862aa57b6705b60\n",
            "Successfully built yahoofinancials\n",
            "Installing collected packages: yahoofinancials\n",
            "Successfully installed yahoofinancials-1.6\n",
            "[*********************100%***********************]  1 of 1 completed\n",
            "[*********************100%***********************]  1 of 1 completed\n",
            "[*********************100%***********************]  1 of 1 completed\n",
            "[*********************100%***********************]  1 of 1 completed\n",
            "[*********************100%***********************]  1 of 1 completed\n",
            "[*********************100%***********************]  1 of 1 completed\n",
            "[*********************100%***********************]  1 of 1 completed\n",
            "[*********************100%***********************]  1 of 1 completed\n",
            "[*********************100%***********************]  1 of 1 completed\n",
            "[*********************100%***********************]  1 of 1 completed\n",
            "[*********************100%***********************]  1 of 1 completed\n",
            "[*********************100%***********************]  1 of 1 completed\n",
            "[*********************100%***********************]  1 of 1 completed\n",
            "[*********************100%***********************]  1 of 1 completed\n",
            "[*********************100%***********************]  1 of 1 completed\n",
            "[*********************100%***********************]  1 of 1 completed\n",
            "[*********************100%***********************]  1 of 1 completed\n",
            "[*********************100%***********************]  1 of 1 completed\n",
            "[*********************100%***********************]  1 of 1 completed\n",
            "[*********************100%***********************]  1 of 1 completed\n",
            "[*********************100%***********************]  1 of 1 completed\n",
            "[*********************100%***********************]  1 of 1 completed\n"
          ]
        }
      ]
    },
    {
      "cell_type": "markdown",
      "source": [
        "### Obteniendo los returns"
      ],
      "metadata": {
        "id": "QyxMyspkMStA"
      }
    },
    {
      "cell_type": "code",
      "execution_count": null,
      "metadata": {
        "id": "abRqdNBMMBnr"
      },
      "outputs": [],
      "source": [
        "#OBTENIENDO LOS RETURNS\n",
        "\n",
        "names=stocks=[\"AAPL\",\"GOOGL\",\"TSLA\",\"MSFT\",\"META\",\"CRM\",\"AMD\",\"NVDA\",\"INTC\",\"PYPL\",\"AMZN\",\"SAP\",\"DIS\",\"ORCL\",\"TSM\",\"SBUX\",\"FTNT\",\"GPRO\",\"ASML\",\"CSCO\",\"V\",\"MA\"]\n",
        "all_dates = df.index.unique().sort_values()\n",
        "start = all_dates.get_loc('2017-10-02')\n",
        "end = all_dates.get_loc('2022-01-03')\n",
        "\n",
        "dates = all_dates[start:end+1]\n",
        "close_prices = pd.DataFrame(index=dates)\n",
        "tmp1 = df.loc[dates]\n",
        "for name in names:\n",
        "  df_sym = tmp1[tmp1['Name'] == name]\n",
        "  df_tmp = pd.DataFrame(data=df_sym['Close'].to_numpy(), \\\n",
        "                        index=df_sym.index, columns=[name])\n",
        "  close_prices = close_prices.join(df_tmp) # left-join por default default\n",
        "if close_prices.isna().sum().sum() > 0:\n",
        "  print(\"Hay valores vacios\")\n",
        "  close_prices.fillna(method='ffill', inplace=True)\n",
        "  print(close_prices.isna().sum().sum())\n",
        "\n",
        "returns = pd.DataFrame(index=dates[1:])\n",
        "for name in names:\n",
        "  current_returns = np.log(close_prices[name] / close_prices[name].shift(1))\n",
        "  returns[name] = current_returns.iloc[1:] * 100"
      ]
    },
    {
      "cell_type": "code",
      "source": [
        "returns.isna().sum().sum()"
      ],
      "metadata": {
        "colab": {
          "base_uri": "https://localhost:8080/"
        },
        "id": "vr14unp8RpEf",
        "outputId": "6b5344a5-b5b9-4352-ffce-70dec7d217a5"
      },
      "execution_count": null,
      "outputs": [
        {
          "output_type": "execute_result",
          "data": {
            "text/plain": [
              "0"
            ]
          },
          "metadata": {},
          "execution_count": 3
        }
      ]
    },
    {
      "cell_type": "markdown",
      "source": [
        "### Obtener retornos"
      ],
      "metadata": {
        "id": "9NnElQd4v-t9"
      }
    },
    {
      "cell_type": "code",
      "source": [
        "def get_retornos(s,e):\n",
        "  start = all_dates.get_loc(s)\n",
        "  end = all_dates.get_loc(e)\n",
        "  dates = all_dates[start:end+1]\n",
        "\n",
        "  close_prices=pd.DataFrame(index=dates)\n",
        "  tam=len(close_prices)\n",
        "\n",
        "  for i in range(len(close_prices)-1):\n",
        "    if i != 0:\n",
        "      close_prices = close_prices.drop(close_prices.index[1])\n",
        "\n",
        "  tmp1 = df.loc[dates]\n",
        "  for name in names:\n",
        "    df_sym = tmp1[tmp1['Name'] == name]\n",
        "    df_tmp = pd.DataFrame(data=df_sym['Close'].to_numpy(), \\\n",
        "                        index=df_sym.index, columns=[name])\n",
        "    close_prices = close_prices.join(df_tmp) # left-join by default\n",
        "\n",
        "  retornos=pd.DataFrame(index=dates)\n",
        "  for i in range((tam-1)):\n",
        "    if i != 0:\n",
        "      retornos = retornos.drop(retornos.index[1])\n",
        "\n",
        "  for name in names:\n",
        "    current_returns = close_prices[name].pct_change()\n",
        "    retornos[name] = current_returns.iloc[1:]\n",
        "\n",
        "  retornos = retornos.drop(retornos.index[0])\n",
        "  retornos = retornos.to_numpy()\n",
        "  return retornos[0]\n",
        "  "
      ],
      "metadata": {
        "id": "4JBeLLH8oCGz"
      },
      "execution_count": null,
      "outputs": []
    },
    {
      "cell_type": "markdown",
      "source": [
        "### Método MPT"
      ],
      "metadata": {
        "id": "uUEnzfeWtyF9"
      }
    },
    {
      "cell_type": "code",
      "source": [
        "def get_w_MPT(mean_return,cov_np):\n",
        "    #Assets solos\n",
        "  D = len(mean_return)\n",
        "  single_asset_returns = np.zeros(D)\n",
        "  single_asset_risks = np.zeros(D)\n",
        "  for i in range(D):\n",
        "    ret = mean_return[i]\n",
        "    risk = np.sqrt(cov_np[i,i])\n",
        "\n",
        "    single_asset_returns[i] = ret\n",
        "    single_asset_risks[i] = risk\n",
        "\n",
        "  #plt.figure(figsize=(8,6))\n",
        "  #plt.scatter(single_asset_risks, single_asset_returns, c='red');\n",
        "  #plt.xlabel(\"Riesgo\")\n",
        "  #plt.ylabel(\"Ganancia\")\n",
        "  #plt.title(\"Mean vs Desviación estandar\",fontsize=15)\n",
        "  #for i, label in enumerate(stocks):\n",
        "  #  plt.annotate(label, (single_asset_risks[i], single_asset_returns[i]))\n",
        "  #plt.show()\n",
        "\n",
        "\n",
        "  #MIN AND MAX\n",
        "  from scipy.optimize import linprog\n",
        "  A_eq = np.ones((1, D))\n",
        "  b_eq = np.ones(1)\n",
        "  bounds = [(0, 1)]*D\n",
        "  # minimize\n",
        "  res = linprog(mean_return, A_eq=A_eq, b_eq=b_eq, bounds=bounds)\n",
        "  min_return = res.fun\n",
        "  # maximize\n",
        "  res = linprog(-mean_return, A_eq=A_eq, b_eq=b_eq, bounds=bounds)\n",
        "  max_return = -res.fun\n",
        "  #print(min_return, max_return)\n",
        "\n",
        "\n",
        "  #ENCONTRAR LA FRONTERA EFICIENTE\n",
        "  N = 100\n",
        "  target_returns = np.linspace(min_return, max_return, num=N)\n",
        "  from scipy.optimize import minimize\n",
        "  def get_portfolio_variance(weights):\n",
        "    return weights.dot(cov).dot(weights)\n",
        "  def target_return_constraint(weights, target):\n",
        "    return weights.dot(mean_return) - target\n",
        "  def portfolio_constraint(weights):\n",
        "    return weights.sum() - 1\n",
        "\n",
        "\n",
        "  constraints = [\n",
        "      {\n",
        "          'type': 'eq',\n",
        "          'fun': target_return_constraint,\n",
        "          'args': [target_returns[0]], # se va a estar actalizando en el ciclo\n",
        "      },\n",
        "      {\n",
        "          'type': 'eq',\n",
        "          'fun': portfolio_constraint,\n",
        "      }\n",
        "  ]\n",
        "\n",
        "  optimized_risks = []\n",
        "  for target in target_returns:\n",
        "    # set target return constraint\n",
        "    constraints[0]['args'] = [target]\n",
        "\n",
        "    res = minimize(\n",
        "        fun=get_portfolio_variance,\n",
        "        x0=np.ones(D) / D, # uniform\n",
        "        method='SLSQP',\n",
        "        constraints=constraints,\n",
        "        bounds=bounds,\n",
        "    )\n",
        "    optimized_risks.append(np.sqrt(res.fun))\n",
        "    if res.status != 0:\n",
        "      print(res)\n",
        "\n",
        "  #plt.plot(optimized_risks, target_returns, c='black');\n",
        "  #plt.xlabel('Riesgo')\n",
        "  #plt.ylabel('Retorno esperado')\n",
        "\n",
        "\n",
        "  # MIN VARIANZA\n",
        "  res = minimize(\n",
        "      fun=get_portfolio_variance,\n",
        "      x0=np.ones(D) / D, # uniform\n",
        "      method='SLSQP',\n",
        "      constraints={\n",
        "          'type': 'eq',\n",
        "          'fun': portfolio_constraint,\n",
        "      },\n",
        "      bounds=bounds,\n",
        "  )\n",
        "\n",
        "  mv_risk = np.sqrt(res.fun)\n",
        "  mv_weights = res.x\n",
        "  mv_ret = mv_weights.dot(mean_return)\n",
        "\n",
        "\n",
        "  #plt.plot(optimized_risks, target_returns, c='black');\n",
        "  #plt.scatter([mv_risk], [mv_ret], c='red');\n",
        "  #plt.xlabel('Riesgo')\n",
        "  #plt.ylabel('Retorno esperado')\n",
        "\n",
        "  w_minimo_riesgo=mv_weights\n",
        "\n",
        "\n",
        "\n",
        "  #GET SHAPE RATIO\n",
        "\n",
        "  # https://fred.stlouisfed.org/series/TB3MS\n",
        "  #risk_free_rate = 0.04 / 22\n",
        "  #risk_free_rate=0.04 / 252\n",
        "  risk_free_rate=0.15 / 16\n",
        "  # mean_return, cov, bounds\n",
        "  def neg_sharpe_ratio(weights):\n",
        "    mean = weights.dot(mean_return)\n",
        "    sd = np.sqrt(weights.dot(cov).dot(weights))\n",
        "    return -(mean - risk_free_rate) / sd\n",
        "\n",
        "  res = minimize(\n",
        "      fun=neg_sharpe_ratio,\n",
        "      x0=np.ones(D) / D, # uniform\n",
        "      method='SLSQP',\n",
        "      constraints={\n",
        "          'type': 'eq',\n",
        "          'fun': portfolio_constraint,\n",
        "      },\n",
        "      bounds=bounds,\n",
        "  )\n",
        "\n",
        "  best_sr, best_w = -res.fun, res.x\n",
        "\n",
        "  w_shape_ratio=best_w\n",
        "  return [w_minimo_riesgo,w_shape_ratio] \n"
      ],
      "metadata": {
        "id": "8sGftcYmX24f"
      },
      "execution_count": null,
      "outputs": []
    },
    {
      "cell_type": "markdown",
      "source": [
        "### Algoritmo RL "
      ],
      "metadata": {
        "id": "6XUAOCW_t8-e"
      }
    },
    {
      "cell_type": "code",
      "source": [
        "#Distribución normal truncada\n",
        "from scipy.stats import truncnorm\n",
        "\n",
        "def get_truncated_normal(mean=0, sd=1, low=0, upp=10):\n",
        "  return truncnorm((low - mean) / sd, (upp - mean) / sd, loc=mean, scale=sd)\n",
        "\n",
        "def get_elite(elite, elite_tam):\n",
        "  c_elite=sorted(elite,reverse=True)\n",
        "  bests=[]\n",
        "  for i in range(int(elite_tam)):\n",
        "    for j in range(len(elite)):\n",
        "      if c_elite[i]==elite[j]:\n",
        "         bests.append(j)\n",
        "  return bests\n",
        "\n",
        "\n",
        "\n",
        "#Algoritmo\n",
        "def CEM(retornos): #recibe un array\n",
        "  #Inicializando variables\n",
        "  rendimiento= retornos #FALTA\n",
        "  D=len(retornos)\n",
        "  mu=np.zeros(D) \n",
        "  delta=np.ones(D)\n",
        "  batch_size=50\n",
        "  elite_frac=0.1 \n",
        "  n_iteraciones=100\n",
        "\n",
        "  for t in range(n_iteraciones):\n",
        "    #Obtener candidatos para w\n",
        "    w_total=[]\n",
        "    for k in range(batch_size):\n",
        "      w=np.ones(D)\n",
        "      for i in range(D):\n",
        "        X = get_truncated_normal(mean=mu[i], sd=delta[i], low=0, upp=1)\n",
        "        w[i]=X.rvs()\n",
        "      w /= np.sum(w)\n",
        "      w_total.append(w)\n",
        "    \n",
        "    #Evaluación de candidatos w\n",
        "    rend=np.ones(batch_size)\n",
        "    for i in range(batch_size):\n",
        "      rend[i]=rendimiento.dot(w_total[i]) #Obtener rendimiento\n",
        "\n",
        "    #Se obtienen los indices donde están los elite_frac mejores  \n",
        "    elite_tam=elite_frac*batch_size\n",
        "    indices_elite=get_elite(rend, elite_tam)\n",
        "\n",
        "    #agregamos en elite_set las elite_frac w mejores\n",
        "    elite_set=[]\n",
        "    for x in indices_elite:\n",
        "      elite_set.append(w_total[x]) \n",
        "\n",
        "    #Obtenemos la nueva mu y delta\n",
        "    mu=np.zeros(D)\n",
        "    delta=np.ones(D)\n",
        "    for i in range(D):\n",
        "      data=[]\n",
        "      for j in range(int(elite_tam)):\n",
        "        data.append(elite_set[j][i])\n",
        "      mu[i]=np.mean(data)\n",
        "      delta[i]=np.std(data)\n",
        "\n",
        "  return mu  "
      ],
      "metadata": {
        "id": "Ekj5BUOctvLu"
      },
      "execution_count": null,
      "outputs": []
    },
    {
      "cell_type": "markdown",
      "source": [
        "### Ciclo"
      ],
      "metadata": {
        "id": "UsWZ1rAHvpt9"
      }
    },
    {
      "cell_type": "code",
      "source": [
        " returns[63:126]"
      ],
      "metadata": {
        "colab": {
          "base_uri": "https://localhost:8080/",
          "height": 692
        },
        "id": "nOuGpnGwm28E",
        "outputId": "2fd336ce-b896-4e0e-8361-12ac0cf70cb9"
      },
      "execution_count": null,
      "outputs": [
        {
          "output_type": "execute_result",
          "data": {
            "text/plain": [
              "                AAPL     GOOGL      TSLA      MSFT      META       CRM  \\\n",
              "Date                                                                     \n",
              "2018-01-03 -0.017416  1.691707 -1.028583  0.464309  1.775566  0.839297   \n",
              "2018-01-04  0.463421  0.387693 -0.832453  0.876291 -0.184280  1.311525   \n",
              "2018-01-05  1.132099  1.317308  0.621042  1.232191  1.357855  1.322301   \n",
              "2018-01-08 -0.372117  0.352438  6.075470  0.101996  0.762402  0.700595   \n",
              "2018-01-09 -0.011474 -0.127524 -0.811825 -0.067986 -0.218000  0.266044   \n",
              "...              ...       ...       ...       ...       ...       ...   \n",
              "2018-03-28 -1.111057 -0.174942 -7.975021 -0.089457  0.530712 -0.820509   \n",
              "2018-03-29  0.777843  3.130029  3.187844  2.081330  4.322644  2.984780   \n",
              "2018-04-02 -0.657783 -2.391598 -5.265286 -3.059363 -2.792233 -0.863563   \n",
              "2018-04-03  1.020695  0.595672  5.789960  1.335376  0.462281  1.026796   \n",
              "2018-04-04  1.894175  1.076958  7.004146  2.878690 -0.649078  2.534361   \n",
              "\n",
              "                 AMD      NVDA      INTC      PYPL  ...       DIS      ORCL  \\\n",
              "Date                                                ...                       \n",
              "2018-01-03  5.061006  6.373870 -3.452737  3.865285  ...  0.428415  2.289687   \n",
              "2018-01-04  4.817152  0.525746 -1.850868 -0.026058  ... -0.044537  0.980300   \n",
              "2018-01-05 -2.000065  0.843846  0.695307  2.535031  ... -0.545010  0.600107   \n",
              "2018-01-08  3.311558  3.018065  0.000000  0.443749  ... -1.443813  1.046697   \n",
              "2018-01-09 -3.817891 -0.027030 -2.535226  0.176946  ... -0.072735  0.163202   \n",
              "...              ...       ...       ...       ...  ...       ...       ...   \n",
              "2018-03-28 -1.918278 -1.866368 -3.155337 -1.651620  ... -0.828706 -0.885357   \n",
              "2018-03-29  2.417034  4.522336  4.879023  1.073362  ...  1.909799  1.697386   \n",
              "2018-04-02 -5.312796 -4.657962 -6.259476 -1.153327  ... -1.788093 -1.630714   \n",
              "2018-04-03  0.209648  1.926584  1.682419 -0.588398  ...  0.767365 -0.266961   \n",
              "2018-04-04  2.277534  0.394163  0.481256  0.294632  ...  1.527203  1.371701   \n",
              "\n",
              "                 TSM      SBUX      FTNT       GPRO      ASML      CSCO  \\\n",
              "Date                                                                      \n",
              "2018-01-03  1.668112  1.856677  1.521619   0.669791  0.756712  0.794564   \n",
              "2018-01-04 -0.528841  0.374025 -2.313923   1.062432  0.928222 -0.460585   \n",
              "2018-01-05  2.310996  1.147305  0.227009  -0.662695  1.166063  1.375460   \n",
              "2018-01-08 -0.047115 -0.504541  2.020274 -13.657554  0.523594  1.031845   \n",
              "2018-01-09 -0.614510 -0.219430 -1.522641  -6.129174 -0.539999 -0.627906   \n",
              "...              ...       ...       ...        ...       ...       ...   \n",
              "2018-03-28 -1.395701  0.762837 -1.988514  -1.435916 -2.917990 -2.418900   \n",
              "2018-03-29  2.475545 -0.017276  2.456191  -1.038435  2.050492  2.909725   \n",
              "2018-04-02 -2.921604 -2.891637 -2.169687  -5.580842 -2.814207 -4.482279   \n",
              "2018-04-03  2.279698  3.081473  1.889342   0.220502  3.251402  0.898180   \n",
              "2018-04-04  1.052398  1.420895  1.633604   5.151359 -0.588399 -0.435942   \n",
              "\n",
              "                   V        MA  \n",
              "Date                            \n",
              "2018-01-03  0.990623  1.249487  \n",
              "2018-01-04  0.371122  1.285417  \n",
              "2018-01-05  2.366671  2.051840  \n",
              "2018-01-08  0.403020  0.144520  \n",
              "2018-01-09 -0.192909  0.144302  \n",
              "...              ...       ...  \n",
              "2018-03-28 -0.349848 -1.265802  \n",
              "2018-03-29  2.223163  2.784468  \n",
              "2018-04-02 -1.033582 -2.053364  \n",
              "2018-04-03  0.681847  0.505709  \n",
              "2018-04-04  0.510441  0.704880  \n",
              "\n",
              "[63 rows x 22 columns]"
            ],
            "text/html": [
              "\n",
              "  <div id=\"df-fa11ef5b-e8a0-42e8-9d57-1c99f74f5292\">\n",
              "    <div class=\"colab-df-container\">\n",
              "      <div>\n",
              "<style scoped>\n",
              "    .dataframe tbody tr th:only-of-type {\n",
              "        vertical-align: middle;\n",
              "    }\n",
              "\n",
              "    .dataframe tbody tr th {\n",
              "        vertical-align: top;\n",
              "    }\n",
              "\n",
              "    .dataframe thead th {\n",
              "        text-align: right;\n",
              "    }\n",
              "</style>\n",
              "<table border=\"1\" class=\"dataframe\">\n",
              "  <thead>\n",
              "    <tr style=\"text-align: right;\">\n",
              "      <th></th>\n",
              "      <th>AAPL</th>\n",
              "      <th>GOOGL</th>\n",
              "      <th>TSLA</th>\n",
              "      <th>MSFT</th>\n",
              "      <th>META</th>\n",
              "      <th>CRM</th>\n",
              "      <th>AMD</th>\n",
              "      <th>NVDA</th>\n",
              "      <th>INTC</th>\n",
              "      <th>PYPL</th>\n",
              "      <th>...</th>\n",
              "      <th>DIS</th>\n",
              "      <th>ORCL</th>\n",
              "      <th>TSM</th>\n",
              "      <th>SBUX</th>\n",
              "      <th>FTNT</th>\n",
              "      <th>GPRO</th>\n",
              "      <th>ASML</th>\n",
              "      <th>CSCO</th>\n",
              "      <th>V</th>\n",
              "      <th>MA</th>\n",
              "    </tr>\n",
              "    <tr>\n",
              "      <th>Date</th>\n",
              "      <th></th>\n",
              "      <th></th>\n",
              "      <th></th>\n",
              "      <th></th>\n",
              "      <th></th>\n",
              "      <th></th>\n",
              "      <th></th>\n",
              "      <th></th>\n",
              "      <th></th>\n",
              "      <th></th>\n",
              "      <th></th>\n",
              "      <th></th>\n",
              "      <th></th>\n",
              "      <th></th>\n",
              "      <th></th>\n",
              "      <th></th>\n",
              "      <th></th>\n",
              "      <th></th>\n",
              "      <th></th>\n",
              "      <th></th>\n",
              "      <th></th>\n",
              "    </tr>\n",
              "  </thead>\n",
              "  <tbody>\n",
              "    <tr>\n",
              "      <th>2018-01-03</th>\n",
              "      <td>-0.017416</td>\n",
              "      <td>1.691707</td>\n",
              "      <td>-1.028583</td>\n",
              "      <td>0.464309</td>\n",
              "      <td>1.775566</td>\n",
              "      <td>0.839297</td>\n",
              "      <td>5.061006</td>\n",
              "      <td>6.373870</td>\n",
              "      <td>-3.452737</td>\n",
              "      <td>3.865285</td>\n",
              "      <td>...</td>\n",
              "      <td>0.428415</td>\n",
              "      <td>2.289687</td>\n",
              "      <td>1.668112</td>\n",
              "      <td>1.856677</td>\n",
              "      <td>1.521619</td>\n",
              "      <td>0.669791</td>\n",
              "      <td>0.756712</td>\n",
              "      <td>0.794564</td>\n",
              "      <td>0.990623</td>\n",
              "      <td>1.249487</td>\n",
              "    </tr>\n",
              "    <tr>\n",
              "      <th>2018-01-04</th>\n",
              "      <td>0.463421</td>\n",
              "      <td>0.387693</td>\n",
              "      <td>-0.832453</td>\n",
              "      <td>0.876291</td>\n",
              "      <td>-0.184280</td>\n",
              "      <td>1.311525</td>\n",
              "      <td>4.817152</td>\n",
              "      <td>0.525746</td>\n",
              "      <td>-1.850868</td>\n",
              "      <td>-0.026058</td>\n",
              "      <td>...</td>\n",
              "      <td>-0.044537</td>\n",
              "      <td>0.980300</td>\n",
              "      <td>-0.528841</td>\n",
              "      <td>0.374025</td>\n",
              "      <td>-2.313923</td>\n",
              "      <td>1.062432</td>\n",
              "      <td>0.928222</td>\n",
              "      <td>-0.460585</td>\n",
              "      <td>0.371122</td>\n",
              "      <td>1.285417</td>\n",
              "    </tr>\n",
              "    <tr>\n",
              "      <th>2018-01-05</th>\n",
              "      <td>1.132099</td>\n",
              "      <td>1.317308</td>\n",
              "      <td>0.621042</td>\n",
              "      <td>1.232191</td>\n",
              "      <td>1.357855</td>\n",
              "      <td>1.322301</td>\n",
              "      <td>-2.000065</td>\n",
              "      <td>0.843846</td>\n",
              "      <td>0.695307</td>\n",
              "      <td>2.535031</td>\n",
              "      <td>...</td>\n",
              "      <td>-0.545010</td>\n",
              "      <td>0.600107</td>\n",
              "      <td>2.310996</td>\n",
              "      <td>1.147305</td>\n",
              "      <td>0.227009</td>\n",
              "      <td>-0.662695</td>\n",
              "      <td>1.166063</td>\n",
              "      <td>1.375460</td>\n",
              "      <td>2.366671</td>\n",
              "      <td>2.051840</td>\n",
              "    </tr>\n",
              "    <tr>\n",
              "      <th>2018-01-08</th>\n",
              "      <td>-0.372117</td>\n",
              "      <td>0.352438</td>\n",
              "      <td>6.075470</td>\n",
              "      <td>0.101996</td>\n",
              "      <td>0.762402</td>\n",
              "      <td>0.700595</td>\n",
              "      <td>3.311558</td>\n",
              "      <td>3.018065</td>\n",
              "      <td>0.000000</td>\n",
              "      <td>0.443749</td>\n",
              "      <td>...</td>\n",
              "      <td>-1.443813</td>\n",
              "      <td>1.046697</td>\n",
              "      <td>-0.047115</td>\n",
              "      <td>-0.504541</td>\n",
              "      <td>2.020274</td>\n",
              "      <td>-13.657554</td>\n",
              "      <td>0.523594</td>\n",
              "      <td>1.031845</td>\n",
              "      <td>0.403020</td>\n",
              "      <td>0.144520</td>\n",
              "    </tr>\n",
              "    <tr>\n",
              "      <th>2018-01-09</th>\n",
              "      <td>-0.011474</td>\n",
              "      <td>-0.127524</td>\n",
              "      <td>-0.811825</td>\n",
              "      <td>-0.067986</td>\n",
              "      <td>-0.218000</td>\n",
              "      <td>0.266044</td>\n",
              "      <td>-3.817891</td>\n",
              "      <td>-0.027030</td>\n",
              "      <td>-2.535226</td>\n",
              "      <td>0.176946</td>\n",
              "      <td>...</td>\n",
              "      <td>-0.072735</td>\n",
              "      <td>0.163202</td>\n",
              "      <td>-0.614510</td>\n",
              "      <td>-0.219430</td>\n",
              "      <td>-1.522641</td>\n",
              "      <td>-6.129174</td>\n",
              "      <td>-0.539999</td>\n",
              "      <td>-0.627906</td>\n",
              "      <td>-0.192909</td>\n",
              "      <td>0.144302</td>\n",
              "    </tr>\n",
              "    <tr>\n",
              "      <th>...</th>\n",
              "      <td>...</td>\n",
              "      <td>...</td>\n",
              "      <td>...</td>\n",
              "      <td>...</td>\n",
              "      <td>...</td>\n",
              "      <td>...</td>\n",
              "      <td>...</td>\n",
              "      <td>...</td>\n",
              "      <td>...</td>\n",
              "      <td>...</td>\n",
              "      <td>...</td>\n",
              "      <td>...</td>\n",
              "      <td>...</td>\n",
              "      <td>...</td>\n",
              "      <td>...</td>\n",
              "      <td>...</td>\n",
              "      <td>...</td>\n",
              "      <td>...</td>\n",
              "      <td>...</td>\n",
              "      <td>...</td>\n",
              "      <td>...</td>\n",
              "    </tr>\n",
              "    <tr>\n",
              "      <th>2018-03-28</th>\n",
              "      <td>-1.111057</td>\n",
              "      <td>-0.174942</td>\n",
              "      <td>-7.975021</td>\n",
              "      <td>-0.089457</td>\n",
              "      <td>0.530712</td>\n",
              "      <td>-0.820509</td>\n",
              "      <td>-1.918278</td>\n",
              "      <td>-1.866368</td>\n",
              "      <td>-3.155337</td>\n",
              "      <td>-1.651620</td>\n",
              "      <td>...</td>\n",
              "      <td>-0.828706</td>\n",
              "      <td>-0.885357</td>\n",
              "      <td>-1.395701</td>\n",
              "      <td>0.762837</td>\n",
              "      <td>-1.988514</td>\n",
              "      <td>-1.435916</td>\n",
              "      <td>-2.917990</td>\n",
              "      <td>-2.418900</td>\n",
              "      <td>-0.349848</td>\n",
              "      <td>-1.265802</td>\n",
              "    </tr>\n",
              "    <tr>\n",
              "      <th>2018-03-29</th>\n",
              "      <td>0.777843</td>\n",
              "      <td>3.130029</td>\n",
              "      <td>3.187844</td>\n",
              "      <td>2.081330</td>\n",
              "      <td>4.322644</td>\n",
              "      <td>2.984780</td>\n",
              "      <td>2.417034</td>\n",
              "      <td>4.522336</td>\n",
              "      <td>4.879023</td>\n",
              "      <td>1.073362</td>\n",
              "      <td>...</td>\n",
              "      <td>1.909799</td>\n",
              "      <td>1.697386</td>\n",
              "      <td>2.475545</td>\n",
              "      <td>-0.017276</td>\n",
              "      <td>2.456191</td>\n",
              "      <td>-1.038435</td>\n",
              "      <td>2.050492</td>\n",
              "      <td>2.909725</td>\n",
              "      <td>2.223163</td>\n",
              "      <td>2.784468</td>\n",
              "    </tr>\n",
              "    <tr>\n",
              "      <th>2018-04-02</th>\n",
              "      <td>-0.657783</td>\n",
              "      <td>-2.391598</td>\n",
              "      <td>-5.265286</td>\n",
              "      <td>-3.059363</td>\n",
              "      <td>-2.792233</td>\n",
              "      <td>-0.863563</td>\n",
              "      <td>-5.312796</td>\n",
              "      <td>-4.657962</td>\n",
              "      <td>-6.259476</td>\n",
              "      <td>-1.153327</td>\n",
              "      <td>...</td>\n",
              "      <td>-1.788093</td>\n",
              "      <td>-1.630714</td>\n",
              "      <td>-2.921604</td>\n",
              "      <td>-2.891637</td>\n",
              "      <td>-2.169687</td>\n",
              "      <td>-5.580842</td>\n",
              "      <td>-2.814207</td>\n",
              "      <td>-4.482279</td>\n",
              "      <td>-1.033582</td>\n",
              "      <td>-2.053364</td>\n",
              "    </tr>\n",
              "    <tr>\n",
              "      <th>2018-04-03</th>\n",
              "      <td>1.020695</td>\n",
              "      <td>0.595672</td>\n",
              "      <td>5.789960</td>\n",
              "      <td>1.335376</td>\n",
              "      <td>0.462281</td>\n",
              "      <td>1.026796</td>\n",
              "      <td>0.209648</td>\n",
              "      <td>1.926584</td>\n",
              "      <td>1.682419</td>\n",
              "      <td>-0.588398</td>\n",
              "      <td>...</td>\n",
              "      <td>0.767365</td>\n",
              "      <td>-0.266961</td>\n",
              "      <td>2.279698</td>\n",
              "      <td>3.081473</td>\n",
              "      <td>1.889342</td>\n",
              "      <td>0.220502</td>\n",
              "      <td>3.251402</td>\n",
              "      <td>0.898180</td>\n",
              "      <td>0.681847</td>\n",
              "      <td>0.505709</td>\n",
              "    </tr>\n",
              "    <tr>\n",
              "      <th>2018-04-04</th>\n",
              "      <td>1.894175</td>\n",
              "      <td>1.076958</td>\n",
              "      <td>7.004146</td>\n",
              "      <td>2.878690</td>\n",
              "      <td>-0.649078</td>\n",
              "      <td>2.534361</td>\n",
              "      <td>2.277534</td>\n",
              "      <td>0.394163</td>\n",
              "      <td>0.481256</td>\n",
              "      <td>0.294632</td>\n",
              "      <td>...</td>\n",
              "      <td>1.527203</td>\n",
              "      <td>1.371701</td>\n",
              "      <td>1.052398</td>\n",
              "      <td>1.420895</td>\n",
              "      <td>1.633604</td>\n",
              "      <td>5.151359</td>\n",
              "      <td>-0.588399</td>\n",
              "      <td>-0.435942</td>\n",
              "      <td>0.510441</td>\n",
              "      <td>0.704880</td>\n",
              "    </tr>\n",
              "  </tbody>\n",
              "</table>\n",
              "<p>63 rows × 22 columns</p>\n",
              "</div>\n",
              "      <button class=\"colab-df-convert\" onclick=\"convertToInteractive('df-fa11ef5b-e8a0-42e8-9d57-1c99f74f5292')\"\n",
              "              title=\"Convert this dataframe to an interactive table.\"\n",
              "              style=\"display:none;\">\n",
              "        \n",
              "  <svg xmlns=\"http://www.w3.org/2000/svg\" height=\"24px\"viewBox=\"0 0 24 24\"\n",
              "       width=\"24px\">\n",
              "    <path d=\"M0 0h24v24H0V0z\" fill=\"none\"/>\n",
              "    <path d=\"M18.56 5.44l.94 2.06.94-2.06 2.06-.94-2.06-.94-.94-2.06-.94 2.06-2.06.94zm-11 1L8.5 8.5l.94-2.06 2.06-.94-2.06-.94L8.5 2.5l-.94 2.06-2.06.94zm10 10l.94 2.06.94-2.06 2.06-.94-2.06-.94-.94-2.06-.94 2.06-2.06.94z\"/><path d=\"M17.41 7.96l-1.37-1.37c-.4-.4-.92-.59-1.43-.59-.52 0-1.04.2-1.43.59L10.3 9.45l-7.72 7.72c-.78.78-.78 2.05 0 2.83L4 21.41c.39.39.9.59 1.41.59.51 0 1.02-.2 1.41-.59l7.78-7.78 2.81-2.81c.8-.78.8-2.07 0-2.86zM5.41 20L4 18.59l7.72-7.72 1.47 1.35L5.41 20z\"/>\n",
              "  </svg>\n",
              "      </button>\n",
              "      \n",
              "  <style>\n",
              "    .colab-df-container {\n",
              "      display:flex;\n",
              "      flex-wrap:wrap;\n",
              "      gap: 12px;\n",
              "    }\n",
              "\n",
              "    .colab-df-convert {\n",
              "      background-color: #E8F0FE;\n",
              "      border: none;\n",
              "      border-radius: 50%;\n",
              "      cursor: pointer;\n",
              "      display: none;\n",
              "      fill: #1967D2;\n",
              "      height: 32px;\n",
              "      padding: 0 0 0 0;\n",
              "      width: 32px;\n",
              "    }\n",
              "\n",
              "    .colab-df-convert:hover {\n",
              "      background-color: #E2EBFA;\n",
              "      box-shadow: 0px 1px 2px rgba(60, 64, 67, 0.3), 0px 1px 3px 1px rgba(60, 64, 67, 0.15);\n",
              "      fill: #174EA6;\n",
              "    }\n",
              "\n",
              "    [theme=dark] .colab-df-convert {\n",
              "      background-color: #3B4455;\n",
              "      fill: #D2E3FC;\n",
              "    }\n",
              "\n",
              "    [theme=dark] .colab-df-convert:hover {\n",
              "      background-color: #434B5C;\n",
              "      box-shadow: 0px 1px 3px 1px rgba(0, 0, 0, 0.15);\n",
              "      filter: drop-shadow(0px 1px 2px rgba(0, 0, 0, 0.3));\n",
              "      fill: #FFFFFF;\n",
              "    }\n",
              "  </style>\n",
              "\n",
              "      <script>\n",
              "        const buttonEl =\n",
              "          document.querySelector('#df-fa11ef5b-e8a0-42e8-9d57-1c99f74f5292 button.colab-df-convert');\n",
              "        buttonEl.style.display =\n",
              "          google.colab.kernel.accessAllowed ? 'block' : 'none';\n",
              "\n",
              "        async function convertToInteractive(key) {\n",
              "          const element = document.querySelector('#df-fa11ef5b-e8a0-42e8-9d57-1c99f74f5292');\n",
              "          const dataTable =\n",
              "            await google.colab.kernel.invokeFunction('convertToInteractive',\n",
              "                                                     [key], {});\n",
              "          if (!dataTable) return;\n",
              "\n",
              "          const docLinkHtml = 'Like what you see? Visit the ' +\n",
              "            '<a target=\"_blank\" href=https://colab.research.google.com/notebooks/data_table.ipynb>data table notebook</a>'\n",
              "            + ' to learn more about interactive tables.';\n",
              "          element.innerHTML = '';\n",
              "          dataTable['output_type'] = 'display_data';\n",
              "          await google.colab.output.renderOutput(dataTable, element);\n",
              "          const docLink = document.createElement('div');\n",
              "          docLink.innerHTML = docLinkHtml;\n",
              "          element.appendChild(docLink);\n",
              "        }\n",
              "      </script>\n",
              "    </div>\n",
              "  </div>\n",
              "  "
            ]
          },
          "metadata": {},
          "execution_count": 7
        }
      ]
    },
    {
      "cell_type": "code",
      "source": [
        "w_SR_list[0]"
      ],
      "metadata": {
        "colab": {
          "base_uri": "https://localhost:8080/"
        },
        "id": "_1FW_RCTwhjc",
        "outputId": "64bacd5b-6b7b-4121-9f0a-9204b8b9bd60"
      },
      "execution_count": null,
      "outputs": [
        {
          "output_type": "execute_result",
          "data": {
            "text/plain": [
              "array([1.36935709e-15, 3.51459487e-15, 3.21936095e-15, 1.24223408e-01,\n",
              "       4.89175914e-15, 9.36312302e-16, 5.83251559e-15, 3.57299126e-15,\n",
              "       2.94107324e-02, 2.86526614e-15, 7.97688299e-02, 1.63557148e-15,\n",
              "       1.80697317e-01, 1.94754656e-15, 2.66570517e-15, 1.27174023e-01,\n",
              "       2.46558906e-01, 6.15458508e-15, 2.32065160e-15, 1.65755559e-01,\n",
              "       4.64112248e-02, 1.86503917e-15])"
            ]
          },
          "metadata": {},
          "execution_count": 29
        }
      ]
    },
    {
      "cell_type": "code",
      "source": [
        "get_retornos(\"2018-01-03\",\"2022-01-03\")"
      ],
      "metadata": {
        "colab": {
          "base_uri": "https://localhost:8080/"
        },
        "id": "5afjrn1rF1me",
        "outputId": "e07fac24-4274-4769-848a-983b532b3ab9"
      },
      "execution_count": null,
      "outputs": [
        {
          "output_type": "execute_result",
          "data": {
            "text/plain": [
              "array([ 3.22713811,  1.65668976, 17.90906258,  2.87666481,  0.83321607,\n",
              "        1.42625135, 12.00779247,  4.67063566,  0.17565181,  1.53993489,\n",
              "        1.83016937,  0.24790395,  0.39615244,  0.84238112,  2.08798863,\n",
              "        0.98739571,  6.39773526,  0.423231  ,  3.45326101,  0.61245859,\n",
              "        0.9146562 ,  1.41158493])"
            ]
          },
          "metadata": {},
          "execution_count": 8
        }
      ]
    },
    {
      "cell_type": "code",
      "source": [
        "#EMPEZAR A HACER EL CICLO\n",
        "x1=0\n",
        "x2=63 #3 MESES entrenamiento y 3 meses ganancia\n",
        "x_inicial1=x1\n",
        "x_inicial2=x2\n",
        "ganancia_varianza_min=[]\n",
        "ganancia_shape_ratio=[]\n",
        "ganancia_CEM=[]\n",
        "fechas_x2=[]\n",
        "w_SR_list=[]\n",
        "w_CEM_list=[]\n",
        "w_VM_list=[]\n",
        "\n",
        "while x2<=(len(returns)-1):\n",
        "  mean_return = returns[x1:x2].mean()\n",
        "  cov = returns[x1:x2].cov()\n",
        "  cov_np = cov.to_numpy()\n",
        "  \n",
        "\n",
        "  #ALGORITMO\n",
        "  #Encontrar w con MPT\n",
        "  w = get_w_MPT(mean_return, cov_np)\n",
        "  w_varianza_min=w[0]\n",
        "  w_sharpe_ratio=w[1]\n",
        "\n",
        "  #Encontrar w con RL\n",
        "  w_CEM = CEM(get_retornos(returns[x1:x2].index[x_inicial1], returns[x1:x2].index[x_inicial2-1]))\n",
        "\n",
        "\n",
        "  #Obtener la ganancia\n",
        "  x1=x2\n",
        "  x2=x2+x_inicial2\n",
        "  retornos=get_retornos(returns[x1:x2].index[x_inicial1], returns[x1:x2].index[x_inicial2-1])\n",
        "  ganancia_varianza_min.append(w_varianza_min.dot(retornos)) \n",
        "  ganancia_shape_ratio.append(w_sharpe_ratio.dot(retornos)) \n",
        "  ganancia_CEM.append(w_CEM.dot(retornos))\n",
        "  w_CEM_list.append(w_CEM)\n",
        "  w_SR_list.append(w_sharpe_ratio)\n",
        "  w_VM_list.append(w_varianza_min)\n",
        "  fechas_x2.append(returns[x1:x2].index[x_inicial2-1])\n",
        "\n",
        "\n",
        "\n",
        "  #fig, ax = plt.subplots(figsize=(10, 5))\n",
        "  #plt.plot(optimized_risks, target_returns, c='black');\n",
        "\n",
        "  # Shape ratio encontrado por optimization\n",
        "  #opt_risk = np.sqrt(best_w.dot(cov).dot(best_w))\n",
        "  #opt_ret = mean_return.dot(best_w)\n",
        "  #plt.scatter([opt_risk], [opt_ret], c='red');\n",
        "  "
      ],
      "metadata": {
        "id": "WJ1RA34mNBll"
      },
      "execution_count": null,
      "outputs": []
    },
    {
      "cell_type": "markdown",
      "source": [
        "### Sharpe ratio"
      ],
      "metadata": {
        "id": "Sa0rrlOQ2bWi"
      }
    },
    {
      "cell_type": "code",
      "source": [
        "ganancia_shape_ratio"
      ],
      "metadata": {
        "colab": {
          "base_uri": "https://localhost:8080/"
        },
        "id": "iLlMFaVSJFae",
        "outputId": "775a02c7-403c-47ee-b38b-9d7b6b0b7116"
      },
      "execution_count": null,
      "outputs": [
        {
          "output_type": "execute_result",
          "data": {
            "text/plain": [
              "[0.06844482208383017,\n",
              " 0.1636481188487556,\n",
              " 0.19545911416023057,\n",
              " -0.14385158470919052,\n",
              " 0.16957682603504104,\n",
              " 0.040267638576412274,\n",
              " -0.0547780244283602,\n",
              " 0.2205549067727246,\n",
              " -0.12449389532285622,\n",
              " 1.567337862209682,\n",
              " 0.1931289759732273,\n",
              " 0.20395802710470964,\n",
              " 0.09288128593674963,\n",
              " 0.08891991692169512,\n",
              " 0.04667130485365018,\n",
              " 0.24460014202644678]"
            ]
          },
          "metadata": {},
          "execution_count": 10
        }
      ]
    },
    {
      "cell_type": "code",
      "source": [
        "#Retorno acumulado Sharpe ratio\n",
        "inversion=100\n",
        "for x in ganancia_shape_ratio:\n",
        "  inversion=inversion+(inversion*x)\n",
        "\n",
        "inversion_final=inversion\n",
        "\n",
        "print(inversion)\n",
        "print(str(inversion-100)+\"%\")"
      ],
      "metadata": {
        "colab": {
          "base_uri": "https://localhost:8080/"
        },
        "id": "eZInNyvUqLQH",
        "outputId": "5a87c909-0a99-4630-ba97-cbfa6f5b9309"
      },
      "execution_count": null,
      "outputs": [
        {
          "output_type": "stream",
          "name": "stdout",
          "text": [
            "894.0721515177448\n",
            "794.0721515177448%\n"
          ]
        }
      ]
    },
    {
      "cell_type": "code",
      "source": [
        "#Tasa de Crecimiento Anual Promedio Sharpe ratio\n",
        "import statistics\n",
        "a=0\n",
        "inversion=100\n",
        "anual=[]\n",
        "for x in ganancia_shape_ratio:\n",
        "  a=a+1\n",
        "  if a%4==0:\n",
        "    inversion=inversion+(inversion*x)\n",
        "    anual.append(inversion)\n",
        "    inversion=100\n",
        "  else:\n",
        "    inversion=inversion+(inversion*x)\n",
        "\n",
        "anual=np.array(anual)-100\n",
        "anual.mean()"
      ],
      "metadata": {
        "id": "K7rKeY99rGGF",
        "colab": {
          "base_uri": "https://localhost:8080/"
        },
        "outputId": "6f250596-b0f3-4fbb-894b-5c38f5454b4c"
      },
      "execution_count": null,
      "outputs": [
        {
          "output_type": "execute_result",
          "data": {
            "text/plain": [
              "86.38109820758089"
            ]
          },
          "metadata": {},
          "execution_count": 12
        }
      ]
    },
    {
      "cell_type": "code",
      "source": [
        "#tasa de crecimiento anual compuesto\n",
        "CAGR=(pow((inversion_final/100),1/4)-1)*100\n",
        "CAGR"
      ],
      "metadata": {
        "colab": {
          "base_uri": "https://localhost:8080/"
        },
        "id": "RbTowIb_2jNP",
        "outputId": "47a4474e-559b-49b4-e771-7c98c3e2b012"
      },
      "execution_count": null,
      "outputs": [
        {
          "output_type": "execute_result",
          "data": {
            "text/plain": [
              "72.919169859725"
            ]
          },
          "metadata": {},
          "execution_count": 13
        }
      ]
    },
    {
      "cell_type": "code",
      "source": [
        "#Gráfica\n",
        "fig, ax = plt.subplots(figsize=(10, 5))\n",
        "plt.scatter(fechas_x2, ganancia_shape_ratio, c='red');\n",
        "plt.plot(fechas_x2, ganancia_shape_ratio, c='black');\n",
        "\n",
        "inversion=100\n",
        "t_SR=[]\n",
        "for x in ganancia_shape_ratio:\n",
        "  inversion=inversion+(inversion*x)\n",
        "  t_SR.append(inversion)\n",
        "\n",
        "fig, ax = plt.subplots(figsize=(10, 5))\n",
        "plt.plot(fechas_x2, t_SR, c='black');\n",
        "plt.scatter(fechas_x2, t_SR, c='red');"
      ],
      "metadata": {
        "colab": {
          "base_uri": "https://localhost:8080/",
          "height": 623
        },
        "id": "684xrPqL6ErY",
        "outputId": "39fbe2ae-a74d-4497-bd8d-8fce1955877a"
      },
      "execution_count": null,
      "outputs": [
        {
          "output_type": "display_data",
          "data": {
            "text/plain": [
              "<Figure size 720x360 with 1 Axes>"
            ],
            "image/png": "[encoded data removed]"
          },
          "metadata": {
            "needs_background": "light"
          }
        },
        {
          "output_type": "display_data",
          "data": {
            "text/plain": [
              "<Figure size 720x360 with 1 Axes>"
            ],
            "image/png": "[encoded data removed]"
          },
          "metadata": {
            "needs_background": "light"
          }
        }
      ]
    },
    {
      "cell_type": "markdown",
      "source": [
        "### CEM"
      ],
      "metadata": {
        "id": "s9qUbQI42fm5"
      }
    },
    {
      "cell_type": "code",
      "source": [
        "#Retorno acumulado CEM\n",
        "inversion=100\n",
        "for x in ganancia_CEM:\n",
        "  inversion=inversion+(inversion*x)\n",
        "\n",
        "inversion_final=inversion\n",
        "\n",
        "print(inversion)\n",
        "print(str(inversion-100)+\"%\")"
      ],
      "metadata": {
        "colab": {
          "base_uri": "https://localhost:8080/"
        },
        "id": "jTkHr3ODq0SV",
        "outputId": "60e34332-db78-4573-8f81-a4baa7aa20ad"
      },
      "execution_count": null,
      "outputs": [
        {
          "output_type": "stream",
          "name": "stdout",
          "text": [
            "384.885206471673\n",
            "284.885206471673%\n"
          ]
        }
      ]
    },
    {
      "cell_type": "code",
      "source": [
        "#Tasa de Crecimiento Anual Promedio CEM\n",
        "a=0\n",
        "inversion=100\n",
        "anual=[]\n",
        "for x in ganancia_CEM:\n",
        "  a=a+1\n",
        "  if a%4==0:\n",
        "    inversion=inversion+(inversion*x)\n",
        "    anual.append(inversion)\n",
        "    inversion=100\n",
        "  else:\n",
        "    inversion=inversion+(inversion*x)\n",
        "\n",
        "anual=np.array(anual)-100\n",
        "anual.mean()"
      ],
      "metadata": {
        "colab": {
          "base_uri": "https://localhost:8080/"
        },
        "id": "AE-Incj9ANJ3",
        "outputId": "4a536a60-2aa1-42b0-f339-6140a327e1fe"
      },
      "execution_count": null,
      "outputs": [
        {
          "output_type": "execute_result",
          "data": {
            "text/plain": [
              "42.98953281601283"
            ]
          },
          "metadata": {},
          "execution_count": 16
        }
      ]
    },
    {
      "cell_type": "code",
      "source": [
        "#tasa de crecimiento anual compuesto CEM\n",
        "CAGR=(pow((inversion_final/100),1/4)-1)*100\n",
        "CAGR"
      ],
      "metadata": {
        "colab": {
          "base_uri": "https://localhost:8080/"
        },
        "id": "uyAg79PkAd3a",
        "outputId": "78c34348-6c21-4345-dfaa-686a746e1ab8"
      },
      "execution_count": null,
      "outputs": [
        {
          "output_type": "execute_result",
          "data": {
            "text/plain": [
              "40.0660252962934"
            ]
          },
          "metadata": {},
          "execution_count": 17
        }
      ]
    },
    {
      "cell_type": "code",
      "source": [
        "#Gráfica\n",
        "fig, ax = plt.subplots(figsize=(10, 5))\n",
        "plt.scatter(fechas_x2, ganancia_CEM, c='red');\n",
        "plt.plot(fechas_x2, ganancia_CEM, c='black');\n",
        "\n",
        "inversion=100\n",
        "t=[]\n",
        "for x in ganancia_CEM:\n",
        "  inversion=inversion+(inversion*x)\n",
        "  t.append(inversion)\n",
        "\n",
        "fig, ax = plt.subplots(figsize=(10, 5))\n",
        "plt.plot(fechas_x2, t, c='black');\n",
        "plt.scatter(fechas_x2, t, c='red');"
      ],
      "metadata": {
        "colab": {
          "base_uri": "https://localhost:8080/",
          "height": 623
        },
        "id": "uNN0jaMwAprR",
        "outputId": "44617dcc-71ac-4a06-c986-13a2cba86bd1"
      },
      "execution_count": null,
      "outputs": [
        {
          "output_type": "display_data",
          "data": {
            "text/plain": [
              "<Figure size 720x360 with 1 Axes>"
            ],
            "image/png": "[encoded data removed]"
          },
          "metadata": {
            "needs_background": "light"
          }
        },
        {
          "output_type": "display_data",
          "data": {
            "text/plain": [
              "<Figure size 720x360 with 1 Axes>"
            ],
            "image/png": "[encoded data removed]"
          },
          "metadata": {
            "needs_background": "light"
          }
        }
      ]
    },
    {
      "cell_type": "markdown",
      "source": [
        "### Varianza mínima"
      ],
      "metadata": {
        "id": "x-KbmJhfA2x2"
      }
    },
    {
      "cell_type": "code",
      "source": [
        "#Retorno acumulado Varianza mínima\n",
        "inversion=100\n",
        "for x in ganancia_varianza_min:\n",
        "  inversion=inversion+(inversion*x)\n",
        "\n",
        "inversion_final=inversion\n",
        "\n",
        "print(inversion)\n",
        "print(str(inversion-100)+\"%\")"
      ],
      "metadata": {
        "id": "kud5u1fbwFt0",
        "outputId": "e0cdebdf-ded5-43e4-c8ce-d9d197b861e3",
        "colab": {
          "base_uri": "https://localhost:8080/"
        }
      },
      "execution_count": null,
      "outputs": [
        {
          "output_type": "stream",
          "name": "stdout",
          "text": [
            "250.99961837263925\n",
            "150.99961837263925%\n"
          ]
        }
      ]
    },
    {
      "cell_type": "code",
      "source": [
        "#Tasa de Crecimiento Anual Promedio Varianza mínima\n",
        "a=0\n",
        "inversion=100\n",
        "anual=[]\n",
        "for x in ganancia_varianza_min:\n",
        "  a=a+1\n",
        "  if a%4==0:\n",
        "    inversion=inversion+(inversion*x)\n",
        "    anual.append(inversion)\n",
        "    inversion=100\n",
        "  else:\n",
        "    inversion=inversion+(inversion*x)\n",
        "\n",
        "anual=np.array(anual)-100\n",
        "anual.mean()"
      ],
      "metadata": {
        "colab": {
          "base_uri": "https://localhost:8080/"
        },
        "id": "Q6vYt3rpBkY1",
        "outputId": "e08ed375-31b8-413c-981b-09355468dba9"
      },
      "execution_count": null,
      "outputs": [
        {
          "output_type": "execute_result",
          "data": {
            "text/plain": [
              "27.725203672606625"
            ]
          },
          "metadata": {},
          "execution_count": 20
        }
      ]
    },
    {
      "cell_type": "code",
      "source": [
        "#tasa de crecimiento anual compuesto varianza mínima\n",
        "CAGR=(pow((inversion_final/100),1/4)-1)*100\n",
        "CAGR"
      ],
      "metadata": {
        "colab": {
          "base_uri": "https://localhost:8080/"
        },
        "id": "OT5VNX3hCdaF",
        "outputId": "9a8d1e95-d697-449c-d135-68f552357a75"
      },
      "execution_count": null,
      "outputs": [
        {
          "output_type": "execute_result",
          "data": {
            "text/plain": [
              "25.86885029147432"
            ]
          },
          "metadata": {},
          "execution_count": 21
        }
      ]
    },
    {
      "cell_type": "code",
      "source": [
        "#Gráfica\n",
        "fig, ax = plt.subplots(figsize=(10, 5))\n",
        "plt.scatter(fechas_x2, ganancia_varianza_min, c='red');\n",
        "plt.plot(fechas_x2, ganancia_varianza_min, c='black');\n",
        "\n",
        "inversion=100\n",
        "t=[]\n",
        "for x in ganancia_varianza_min:\n",
        "  inversion=inversion+(inversion*x)\n",
        "  t.append(inversion)\n",
        "\n",
        "fig, ax = plt.subplots(figsize=(10, 5))\n",
        "plt.plot(fechas_x2, t, c='black');\n",
        "plt.scatter(fechas_x2, t, c='red');"
      ],
      "metadata": {
        "colab": {
          "base_uri": "https://localhost:8080/",
          "height": 623
        },
        "id": "URwLnZPHCiqV",
        "outputId": "7d15e1a8-7364-4e4f-eeb9-96a28fc2584f"
      },
      "execution_count": null,
      "outputs": [
        {
          "output_type": "display_data",
          "data": {
            "text/plain": [
              "<Figure size 720x360 with 1 Axes>"
            ],
            "image/png": "[encoded data removed]"
          },
          "metadata": {
            "needs_background": "light"
          }
        },
        {
          "output_type": "display_data",
          "data": {
            "text/plain": [
              "<Figure size 720x360 with 1 Axes>"
            ],
            "image/png": "[encoded data removed]"
          },
          "metadata": {
            "needs_background": "light"
          }
        }
      ]
    },
    {
      "cell_type": "markdown",
      "source": [
        "### SP500"
      ],
      "metadata": {
        "id": "ukrH5XKd7Yf3"
      }
    },
    {
      "cell_type": "code",
      "source": [
        "sp500=yf.download(\"SPY\", start=fecha_inicio)\n",
        "sp500"
      ],
      "metadata": {
        "colab": {
          "base_uri": "https://localhost:8080/",
          "height": 472
        },
        "id": "TEg_vSZg7al4",
        "outputId": "15a57c7b-fb6b-453a-8d12-72da06959ebe"
      },
      "execution_count": null,
      "outputs": [
        {
          "output_type": "stream",
          "name": "stdout",
          "text": [
            "\r[*********************100%***********************]  1 of 1 completed\n"
          ]
        },
        {
          "output_type": "execute_result",
          "data": {
            "text/plain": [
              "                  Open        High         Low       Close   Adj Close  \\\n",
              "Date                                                                     \n",
              "2017-01-03  225.039993  225.830002  223.880005  225.240005  203.788055   \n",
              "2017-01-04  225.619995  226.750000  225.610001  226.580002  205.000381   \n",
              "2017-01-05  226.270004  226.580002  225.479996  226.399994  204.837555   \n",
              "2017-01-06  226.529999  227.750000  225.899994  227.210007  205.570435   \n",
              "2017-01-09  226.910004  227.070007  226.419998  226.460007  204.891846   \n",
              "...                ...         ...         ...         ...         ...   \n",
              "2022-09-21  386.109985  389.309998  377.380005  377.390015  377.390015   \n",
              "2022-09-22  376.579987  378.299988  373.440002  374.220001  374.220001   \n",
              "2022-09-23  370.579987  370.619995  363.290009  367.950012  367.950012   \n",
              "2022-09-26  366.410004  370.209991  363.029999  364.309998  364.309998   \n",
              "2022-09-27  368.019989  370.390015  364.809998  365.250000  365.250000   \n",
              "\n",
              "               Volume  \n",
              "Date                   \n",
              "2017-01-03   91366500  \n",
              "2017-01-04   78744400  \n",
              "2017-01-05   78379000  \n",
              "2017-01-06   71559900  \n",
              "2017-01-09   46939700  \n",
              "...               ...  \n",
              "2022-09-21  106746600  \n",
              "2022-09-22   89472600  \n",
              "2022-09-23  122210100  \n",
              "2022-09-26   92347600  \n",
              "2022-09-27   38770327  \n",
              "\n",
              "[1444 rows x 6 columns]"
            ],
            "text/html": [
              "\n",
              "  <div id=\"df-ff0ab90c-23fe-4aaf-9bfd-9f7f4c953bdf\">\n",
              "    <div class=\"colab-df-container\">\n",
              "      <div>\n",
              "<style scoped>\n",
              "    .dataframe tbody tr th:only-of-type {\n",
              "        vertical-align: middle;\n",
              "    }\n",
              "\n",
              "    .dataframe tbody tr th {\n",
              "        vertical-align: top;\n",
              "    }\n",
              "\n",
              "    .dataframe thead th {\n",
              "        text-align: right;\n",
              "    }\n",
              "</style>\n",
              "<table border=\"1\" class=\"dataframe\">\n",
              "  <thead>\n",
              "    <tr style=\"text-align: right;\">\n",
              "      <th></th>\n",
              "      <th>Open</th>\n",
              "      <th>High</th>\n",
              "      <th>Low</th>\n",
              "      <th>Close</th>\n",
              "      <th>Adj Close</th>\n",
              "      <th>Volume</th>\n",
              "    </tr>\n",
              "    <tr>\n",
              "      <th>Date</th>\n",
              "      <th></th>\n",
              "      <th></th>\n",
              "      <th></th>\n",
              "      <th></th>\n",
              "      <th></th>\n",
              "      <th></th>\n",
              "    </tr>\n",
              "  </thead>\n",
              "  <tbody>\n",
              "    <tr>\n",
              "      <th>2017-01-03</th>\n",
              "      <td>225.039993</td>\n",
              "      <td>225.830002</td>\n",
              "      <td>223.880005</td>\n",
              "      <td>225.240005</td>\n",
              "      <td>203.788055</td>\n",
              "      <td>91366500</td>\n",
              "    </tr>\n",
              "    <tr>\n",
              "      <th>2017-01-04</th>\n",
              "      <td>225.619995</td>\n",
              "      <td>226.750000</td>\n",
              "      <td>225.610001</td>\n",
              "      <td>226.580002</td>\n",
              "      <td>205.000381</td>\n",
              "      <td>78744400</td>\n",
              "    </tr>\n",
              "    <tr>\n",
              "      <th>2017-01-05</th>\n",
              "      <td>226.270004</td>\n",
              "      <td>226.580002</td>\n",
              "      <td>225.479996</td>\n",
              "      <td>226.399994</td>\n",
              "      <td>204.837555</td>\n",
              "      <td>78379000</td>\n",
              "    </tr>\n",
              "    <tr>\n",
              "      <th>2017-01-06</th>\n",
              "      <td>226.529999</td>\n",
              "      <td>227.750000</td>\n",
              "      <td>225.899994</td>\n",
              "      <td>227.210007</td>\n",
              "      <td>205.570435</td>\n",
              "      <td>71559900</td>\n",
              "    </tr>\n",
              "    <tr>\n",
              "      <th>2017-01-09</th>\n",
              "      <td>226.910004</td>\n",
              "      <td>227.070007</td>\n",
              "      <td>226.419998</td>\n",
              "      <td>226.460007</td>\n",
              "      <td>204.891846</td>\n",
              "      <td>46939700</td>\n",
              "    </tr>\n",
              "    <tr>\n",
              "      <th>...</th>\n",
              "      <td>...</td>\n",
              "      <td>...</td>\n",
              "      <td>...</td>\n",
              "      <td>...</td>\n",
              "      <td>...</td>\n",
              "      <td>...</td>\n",
              "    </tr>\n",
              "    <tr>\n",
              "      <th>2022-09-21</th>\n",
              "      <td>386.109985</td>\n",
              "      <td>389.309998</td>\n",
              "      <td>377.380005</td>\n",
              "      <td>377.390015</td>\n",
              "      <td>377.390015</td>\n",
              "      <td>106746600</td>\n",
              "    </tr>\n",
              "    <tr>\n",
              "      <th>2022-09-22</th>\n",
              "      <td>376.579987</td>\n",
              "      <td>378.299988</td>\n",
              "      <td>373.440002</td>\n",
              "      <td>374.220001</td>\n",
              "      <td>374.220001</td>\n",
              "      <td>89472600</td>\n",
              "    </tr>\n",
              "    <tr>\n",
              "      <th>2022-09-23</th>\n",
              "      <td>370.579987</td>\n",
              "      <td>370.619995</td>\n",
              "      <td>363.290009</td>\n",
              "      <td>367.950012</td>\n",
              "      <td>367.950012</td>\n",
              "      <td>122210100</td>\n",
              "    </tr>\n",
              "    <tr>\n",
              "      <th>2022-09-26</th>\n",
              "      <td>366.410004</td>\n",
              "      <td>370.209991</td>\n",
              "      <td>363.029999</td>\n",
              "      <td>364.309998</td>\n",
              "      <td>364.309998</td>\n",
              "      <td>92347600</td>\n",
              "    </tr>\n",
              "    <tr>\n",
              "      <th>2022-09-27</th>\n",
              "      <td>368.019989</td>\n",
              "      <td>370.390015</td>\n",
              "      <td>364.809998</td>\n",
              "      <td>365.250000</td>\n",
              "      <td>365.250000</td>\n",
              "      <td>38770327</td>\n",
              "    </tr>\n",
              "  </tbody>\n",
              "</table>\n",
              "<p>1444 rows × 6 columns</p>\n",
              "</div>\n",
              "      <button class=\"colab-df-convert\" onclick=\"convertToInteractive('df-ff0ab90c-23fe-4aaf-9bfd-9f7f4c953bdf')\"\n",
              "              title=\"Convert this dataframe to an interactive table.\"\n",
              "              style=\"display:none;\">\n",
              "        \n",
              "  <svg xmlns=\"http://www.w3.org/2000/svg\" height=\"24px\"viewBox=\"0 0 24 24\"\n",
              "       width=\"24px\">\n",
              "    <path d=\"M0 0h24v24H0V0z\" fill=\"none\"/>\n",
              "    <path d=\"M18.56 5.44l.94 2.06.94-2.06 2.06-.94-2.06-.94-.94-2.06-.94 2.06-2.06.94zm-11 1L8.5 8.5l.94-2.06 2.06-.94-2.06-.94L8.5 2.5l-.94 2.06-2.06.94zm10 10l.94 2.06.94-2.06 2.06-.94-2.06-.94-.94-2.06-.94 2.06-2.06.94z\"/><path d=\"M17.41 7.96l-1.37-1.37c-.4-.4-.92-.59-1.43-.59-.52 0-1.04.2-1.43.59L10.3 9.45l-7.72 7.72c-.78.78-.78 2.05 0 2.83L4 21.41c.39.39.9.59 1.41.59.51 0 1.02-.2 1.41-.59l7.78-7.78 2.81-2.81c.8-.78.8-2.07 0-2.86zM5.41 20L4 18.59l7.72-7.72 1.47 1.35L5.41 20z\"/>\n",
              "  </svg>\n",
              "      </button>\n",
              "      \n",
              "  <style>\n",
              "    .colab-df-container {\n",
              "      display:flex;\n",
              "      flex-wrap:wrap;\n",
              "      gap: 12px;\n",
              "    }\n",
              "\n",
              "    .colab-df-convert {\n",
              "      background-color: #E8F0FE;\n",
              "      border: none;\n",
              "      border-radius: 50%;\n",
              "      cursor: pointer;\n",
              "      display: none;\n",
              "      fill: #1967D2;\n",
              "      height: 32px;\n",
              "      padding: 0 0 0 0;\n",
              "      width: 32px;\n",
              "    }\n",
              "\n",
              "    .colab-df-convert:hover {\n",
              "      background-color: #E2EBFA;\n",
              "      box-shadow: 0px 1px 2px rgba(60, 64, 67, 0.3), 0px 1px 3px 1px rgba(60, 64, 67, 0.15);\n",
              "      fill: #174EA6;\n",
              "    }\n",
              "\n",
              "    [theme=dark] .colab-df-convert {\n",
              "      background-color: #3B4455;\n",
              "      fill: #D2E3FC;\n",
              "    }\n",
              "\n",
              "    [theme=dark] .colab-df-convert:hover {\n",
              "      background-color: #434B5C;\n",
              "      box-shadow: 0px 1px 3px 1px rgba(0, 0, 0, 0.15);\n",
              "      filter: drop-shadow(0px 1px 2px rgba(0, 0, 0, 0.3));\n",
              "      fill: #FFFFFF;\n",
              "    }\n",
              "  </style>\n",
              "\n",
              "      <script>\n",
              "        const buttonEl =\n",
              "          document.querySelector('#df-ff0ab90c-23fe-4aaf-9bfd-9f7f4c953bdf button.colab-df-convert');\n",
              "        buttonEl.style.display =\n",
              "          google.colab.kernel.accessAllowed ? 'block' : 'none';\n",
              "\n",
              "        async function convertToInteractive(key) {\n",
              "          const element = document.querySelector('#df-ff0ab90c-23fe-4aaf-9bfd-9f7f4c953bdf');\n",
              "          const dataTable =\n",
              "            await google.colab.kernel.invokeFunction('convertToInteractive',\n",
              "                                                     [key], {});\n",
              "          if (!dataTable) return;\n",
              "\n",
              "          const docLinkHtml = 'Like what you see? Visit the ' +\n",
              "            '<a target=\"_blank\" href=https://colab.research.google.com/notebooks/data_table.ipynb>data table notebook</a>'\n",
              "            + ' to learn more about interactive tables.';\n",
              "          element.innerHTML = '';\n",
              "          dataTable['output_type'] = 'display_data';\n",
              "          await google.colab.output.renderOutput(dataTable, element);\n",
              "          const docLink = document.createElement('div');\n",
              "          docLink.innerHTML = docLinkHtml;\n",
              "          element.appendChild(docLink);\n",
              "        }\n",
              "      </script>\n",
              "    </div>\n",
              "  </div>\n",
              "  "
            ]
          },
          "metadata": {},
          "execution_count": 23
        }
      ]
    },
    {
      "cell_type": "code",
      "source": [
        "all_dates.get_loc('2022-01-03')"
      ],
      "metadata": {
        "colab": {
          "base_uri": "https://localhost:8080/"
        },
        "id": "evI_aTJ69Hxt",
        "outputId": "af4af53e-268b-468c-c4dd-e696bf9f8897"
      },
      "execution_count": null,
      "outputs": [
        {
          "output_type": "execute_result",
          "data": {
            "text/plain": [
              "1259"
            ]
          },
          "metadata": {},
          "execution_count": 24
        }
      ]
    },
    {
      "cell_type": "code",
      "source": [
        "sp500[\"Close\"][251:1260][0]"
      ],
      "metadata": {
        "colab": {
          "base_uri": "https://localhost:8080/"
        },
        "id": "aFS40bmG8pkl",
        "outputId": "4c1fafd5-a2d3-4852-aca2-631a6433562a"
      },
      "execution_count": null,
      "outputs": [
        {
          "output_type": "execute_result",
          "data": {
            "text/plain": [
              "268.7699890136719"
            ]
          },
          "metadata": {},
          "execution_count": 25
        }
      ]
    },
    {
      "cell_type": "code",
      "source": [
        "#Retorno acumulado Sp500\n",
        "((sp500[\"Close\"][251:1260][1008]/sp500[\"Close\"][251:1260][0])-1)*100"
      ],
      "metadata": {
        "colab": {
          "base_uri": "https://localhost:8080/"
        },
        "id": "awfWfYVA99S1",
        "outputId": "85af4370-6187-433f-d011-b4476dda9841"
      },
      "execution_count": null,
      "outputs": [
        {
          "output_type": "execute_result",
          "data": {
            "text/plain": [
              "77.7393351125887"
            ]
          },
          "metadata": {},
          "execution_count": 26
        }
      ]
    },
    {
      "cell_type": "code",
      "source": [
        "#Retorno promedio anual\n",
        "16.497683"
      ],
      "metadata": {
        "colab": {
          "base_uri": "https://localhost:8080/"
        },
        "id": "-gC_EGg7DS4H",
        "outputId": "34517e74-1f93-4186-c7e0-b9025940c240"
      },
      "execution_count": null,
      "outputs": [
        {
          "output_type": "execute_result",
          "data": {
            "text/plain": [
              "16.497683"
            ]
          },
          "metadata": {},
          "execution_count": 27
        }
      ]
    },
    {
      "cell_type": "code",
      "source": [
        "#tasa de crecimiento anual compuesto varianza mínima\n",
        "(pow((477.71/268.77),1/4)-1)*100"
      ],
      "metadata": {
        "colab": {
          "base_uri": "https://localhost:8080/"
        },
        "id": "KeF_1CMsDpST",
        "outputId": "4ac5bf79-a530-4e10-827b-247cd68ab53f"
      },
      "execution_count": null,
      "outputs": [
        {
          "output_type": "execute_result",
          "data": {
            "text/plain": [
              "15.463810357200614"
            ]
          },
          "metadata": {},
          "execution_count": 28
        }
      ]
    }
  ]
}